{
 "cells": [
  {
   "cell_type": "code",
   "execution_count": 1,
   "metadata": {},
   "outputs": [],
   "source": [
    "import pandas as pd\n",
    "import numpy as np\n",
    "import matplotlib.pyplot as plt\n",
    "import seaborn as sns\n"
   ]
  },
  {
   "cell_type": "code",
   "execution_count": 2,
   "metadata": {},
   "outputs": [],
   "source": [
    "df=pd.read_csv(\"car sales.csv\")"
   ]
  },
  {
   "cell_type": "code",
   "execution_count": 3,
   "metadata": {},
   "outputs": [
    {
     "data": {
      "text/html": [
       "<div>\n",
       "<style scoped>\n",
       "    .dataframe tbody tr th:only-of-type {\n",
       "        vertical-align: middle;\n",
       "    }\n",
       "\n",
       "    .dataframe tbody tr th {\n",
       "        vertical-align: top;\n",
       "    }\n",
       "\n",
       "    .dataframe thead th {\n",
       "        text-align: right;\n",
       "    }\n",
       "</style>\n",
       "<table border=\"1\" class=\"dataframe\">\n",
       "  <thead>\n",
       "    <tr style=\"text-align: right;\">\n",
       "      <th></th>\n",
       "      <th>Car_id</th>\n",
       "      <th>Date</th>\n",
       "      <th>Customer Name</th>\n",
       "      <th>Gender</th>\n",
       "      <th>Annual Income</th>\n",
       "      <th>Dealer_Name</th>\n",
       "      <th>Company</th>\n",
       "      <th>Model</th>\n",
       "      <th>Engine</th>\n",
       "      <th>Transmission</th>\n",
       "      <th>Color</th>\n",
       "      <th>Price ($)</th>\n",
       "      <th>Dealer_No</th>\n",
       "      <th>Body Style</th>\n",
       "      <th>Phone</th>\n",
       "      <th>Dealer_Region</th>\n",
       "    </tr>\n",
       "  </thead>\n",
       "  <tbody>\n",
       "    <tr>\n",
       "      <th>0</th>\n",
       "      <td>C_CND_000001</td>\n",
       "      <td>1/2/2022</td>\n",
       "      <td>Geraldine</td>\n",
       "      <td>Male</td>\n",
       "      <td>13500</td>\n",
       "      <td>Buddy Storbeck's Diesel Service Inc</td>\n",
       "      <td>Ford</td>\n",
       "      <td>Expedition</td>\n",
       "      <td>DoubleÂ Overhead Camshaft</td>\n",
       "      <td>Auto</td>\n",
       "      <td>Black</td>\n",
       "      <td>26000</td>\n",
       "      <td>06457-3834</td>\n",
       "      <td>SUV</td>\n",
       "      <td>8264678</td>\n",
       "      <td>Middletown</td>\n",
       "    </tr>\n",
       "    <tr>\n",
       "      <th>1</th>\n",
       "      <td>C_CND_000002</td>\n",
       "      <td>1/2/2022</td>\n",
       "      <td>Gia</td>\n",
       "      <td>Male</td>\n",
       "      <td>1480000</td>\n",
       "      <td>C &amp; M Motors Inc</td>\n",
       "      <td>Dodge</td>\n",
       "      <td>Durango</td>\n",
       "      <td>DoubleÂ Overhead Camshaft</td>\n",
       "      <td>Auto</td>\n",
       "      <td>Black</td>\n",
       "      <td>19000</td>\n",
       "      <td>60504-7114</td>\n",
       "      <td>SUV</td>\n",
       "      <td>6848189</td>\n",
       "      <td>Aurora</td>\n",
       "    </tr>\n",
       "    <tr>\n",
       "      <th>2</th>\n",
       "      <td>C_CND_000003</td>\n",
       "      <td>1/2/2022</td>\n",
       "      <td>Gianna</td>\n",
       "      <td>Male</td>\n",
       "      <td>1035000</td>\n",
       "      <td>Capitol KIA</td>\n",
       "      <td>Cadillac</td>\n",
       "      <td>Eldorado</td>\n",
       "      <td>Overhead Camshaft</td>\n",
       "      <td>Manual</td>\n",
       "      <td>Red</td>\n",
       "      <td>31500</td>\n",
       "      <td>38701-8047</td>\n",
       "      <td>Passenger</td>\n",
       "      <td>7298798</td>\n",
       "      <td>Greenville</td>\n",
       "    </tr>\n",
       "  </tbody>\n",
       "</table>\n",
       "</div>"
      ],
      "text/plain": [
       "         Car_id      Date Customer Name Gender  Annual Income  \\\n",
       "0  C_CND_000001  1/2/2022     Geraldine   Male          13500   \n",
       "1  C_CND_000002  1/2/2022           Gia   Male        1480000   \n",
       "2  C_CND_000003  1/2/2022        Gianna   Male        1035000   \n",
       "\n",
       "                           Dealer_Name   Company       Model  \\\n",
       "0  Buddy Storbeck's Diesel Service Inc      Ford  Expedition   \n",
       "1                     C & M Motors Inc     Dodge     Durango   \n",
       "2                          Capitol KIA  Cadillac    Eldorado   \n",
       "\n",
       "                      Engine Transmission  Color  Price ($)  Dealer_No   \\\n",
       "0  DoubleÂ Overhead Camshaft         Auto  Black      26000  06457-3834   \n",
       "1  DoubleÂ Overhead Camshaft         Auto  Black      19000  60504-7114   \n",
       "2          Overhead Camshaft       Manual    Red      31500  38701-8047   \n",
       "\n",
       "  Body Style    Phone Dealer_Region  \n",
       "0        SUV  8264678    Middletown  \n",
       "1        SUV  6848189        Aurora  \n",
       "2  Passenger  7298798    Greenville  "
      ]
     },
     "execution_count": 3,
     "metadata": {},
     "output_type": "execute_result"
    }
   ],
   "source": [
    "df.head(3)"
   ]
  },
  {
   "cell_type": "code",
   "execution_count": 4,
   "metadata": {},
   "outputs": [
    {
     "data": {
      "text/plain": [
       "(23906, 16)"
      ]
     },
     "execution_count": 4,
     "metadata": {},
     "output_type": "execute_result"
    }
   ],
   "source": [
    "df.shape"
   ]
  },
  {
   "cell_type": "code",
   "execution_count": 5,
   "metadata": {},
   "outputs": [
    {
     "name": "stdout",
     "output_type": "stream",
     "text": [
      "       Annual Income     Price ($)         Phone\n",
      "count   2.390600e+04  23906.000000  2.390600e+04\n",
      "mean    8.308403e+05  28090.247846  7.497741e+06\n",
      "std     7.200064e+05  14788.687608  8.674920e+05\n",
      "min     1.008000e+04   1200.000000  6.000101e+06\n",
      "25%     3.860000e+05  18001.000000  6.746495e+06\n",
      "50%     7.350000e+05  23000.000000  7.496198e+06\n",
      "75%     1.175750e+06  34000.000000  8.248146e+06\n",
      "max     1.120000e+07  85800.000000  8.999579e+06\n"
     ]
    }
   ],
   "source": [
    "print(df.describe())"
   ]
  },
  {
   "cell_type": "code",
   "execution_count": 6,
   "metadata": {},
   "outputs": [
    {
     "data": {
      "text/plain": [
       "Index(['Car_id', 'Date', 'Customer Name', 'Gender', 'Annual Income',\n",
       "       'Dealer_Name', 'Company', 'Model', 'Engine', 'Transmission', 'Color',\n",
       "       'Price ($)', 'Dealer_No ', 'Body Style', 'Phone', 'Dealer_Region'],\n",
       "      dtype='object')"
      ]
     },
     "execution_count": 6,
     "metadata": {},
     "output_type": "execute_result"
    }
   ],
   "source": [
    "df.columns"
   ]
  },
  {
   "cell_type": "code",
   "execution_count": 7,
   "metadata": {},
   "outputs": [
    {
     "name": "stdout",
     "output_type": "stream",
     "text": [
      "<class 'pandas.core.frame.DataFrame'>\n",
      "Index: 23905 entries, 0 to 23905\n",
      "Data columns (total 16 columns):\n",
      " #   Column         Non-Null Count  Dtype         \n",
      "---  ------         --------------  -----         \n",
      " 0   Car_id         23905 non-null  object        \n",
      " 1   Date           23905 non-null  datetime64[ns]\n",
      " 2   Customer Name  23905 non-null  object        \n",
      " 3   Gender         23905 non-null  object        \n",
      " 4   Annual Income  23905 non-null  int64         \n",
      " 5   Dealer_Name    23905 non-null  object        \n",
      " 6   Company        23905 non-null  object        \n",
      " 7   Model          23905 non-null  object        \n",
      " 8   Engine         23905 non-null  object        \n",
      " 9   Transmission   23905 non-null  object        \n",
      " 10  Color          23905 non-null  object        \n",
      " 11  Price ($)      23905 non-null  int64         \n",
      " 12  Dealer_No      23905 non-null  object        \n",
      " 13  Body Style     23905 non-null  object        \n",
      " 14  Phone          23905 non-null  int64         \n",
      " 15  Dealer_Region  23905 non-null  object        \n",
      "dtypes: datetime64[ns](1), int64(3), object(12)\n",
      "memory usage: 3.1+ MB\n",
      "None\n"
     ]
    }
   ],
   "source": [
    "# Convert 'Date' column to datetime\n",
    "df[\"Date\"] = pd.to_datetime(df[\"Date\"], errors='coerce')\n",
    "\n",
    "# Convert numerical columns\n",
    "df[\"Annual Income\"] = pd.to_numeric(df[\"Annual Income\"], errors='coerce')\n",
    "df[\"Price ($)\"] = pd.to_numeric(df[\"Price ($)\"], errors='coerce')\n",
    "\n",
    "# Drop rows with missing values\n",
    "df.dropna(inplace=True)\n",
    "\n",
    "print(df.info())  # Check data types\n"
   ]
  },
  {
   "cell_type": "markdown",
   "metadata": {},
   "source": [
    "### Feature Engineering"
   ]
  },
  {
   "cell_type": "code",
   "execution_count": 8,
   "metadata": {},
   "outputs": [],
   "source": [
    "df[\"Year\"] = df[\"Date\"].dt.year\n",
    "df[\"Month\"] = df[\"Date\"].dt.month\n",
    "df[\"Day\"] = df[\"Date\"].dt.day\n"
   ]
  },
  {
   "cell_type": "code",
   "execution_count": 9,
   "metadata": {},
   "outputs": [],
   "source": [
    "df_auto = df[df[\"Transmission\"] == \"Auto\"]"
   ]
  },
  {
   "cell_type": "markdown",
   "metadata": {},
   "source": [
    "## Analysis"
   ]
  },
  {
   "cell_type": "code",
   "execution_count": 10,
   "metadata": {},
   "outputs": [
    {
     "data": {
      "text/plain": [
       "np.int64(23905)"
      ]
     },
     "execution_count": 10,
     "metadata": {},
     "output_type": "execute_result"
    }
   ],
   "source": [
    "VehiclesSold=df['Car_id'].count()\n",
    "VehiclesSold"
   ]
  },
  {
   "cell_type": "markdown",
   "metadata": {},
   "source": [
    "The number of vehicles sold were: 23906"
   ]
  },
  {
   "cell_type": "markdown",
   "metadata": {},
   "source": [
    "### Count of sales by gender"
   ]
  },
  {
   "cell_type": "code",
   "execution_count": 11,
   "metadata": {},
   "outputs": [
    {
     "data": {
      "text/plain": [
       "Gender\n",
       "Male      18797\n",
       "Female     5108\n",
       "Name: count, dtype: int64"
      ]
     },
     "execution_count": 11,
     "metadata": {},
     "output_type": "execute_result"
    }
   ],
   "source": [
    "### Count of sales by gender\n",
    "countOfSalesByGender=df['Gender'].value_counts()\n",
    "countOfSalesByGender"
   ]
  },
  {
   "cell_type": "code",
   "execution_count": 12,
   "metadata": {},
   "outputs": [
    {
     "data": {
      "image/png": "[encoded data removed]",
      "text/plain": [
       "<Figure size 600x600 with 1 Axes>"
      ]
     },
     "metadata": {},
     "output_type": "display_data"
    }
   ],
   "source": [
    "# Visualize as Pie Chart\n",
    "plt.figure(figsize=(6, 6))\n",
    "countOfSalesByGender.plot.pie(autopct='%1.1f%%', startangle=140, colors=['#36ac43','#66b3ff'])\n",
    "plt.title('Count of Sales by Gender')\n",
    "plt.ylabel('')  # Hide the y-label\n",
    "plt.show()"
   ]
  },
  {
   "cell_type": "markdown",
   "metadata": {},
   "source": [
    "### Income by Gender"
   ]
  },
  {
   "cell_type": "code",
   "execution_count": 13,
   "metadata": {},
   "outputs": [
    {
     "data": {
      "text/plain": [
       "Gender\n",
       "Female    755973.02\n",
       "Male      851193.15\n",
       "Name: Annual Income, dtype: float64"
      ]
     },
     "execution_count": 13,
     "metadata": {},
     "output_type": "execute_result"
    }
   ],
   "source": [
    "Incomebygender=df.groupby('Gender')['Annual Income'].mean().round(2)\n",
    "Incomebygender"
   ]
  },
  {
   "cell_type": "code",
   "execution_count": 14,
   "metadata": {},
   "outputs": [
    {
     "data": {
      "image/png": "[encoded data removed]",
      "text/plain": [
       "<Figure size 800x400 with 1 Axes>"
      ]
     },
     "metadata": {},
     "output_type": "display_data"
    }
   ],
   "source": [
    "plt.figure(figsize=(8,4))\n",
    "ax=Incomebygender.plot(kind='bar', color=['#36ac43','#66b3ff'])\n",
    "plt.title('Average Annual Income by Gender')\n",
    "plt.ylabel('Average Annual Income')\n",
    "plt.xlabel('Gender')\n",
    "\n",
    "# Adding data labels\n",
    "for i in ax.containers:\n",
    "    ax.bar_label(i, label_type='edge')\n",
    "plt.show()"
   ]
  },
  {
   "cell_type": "markdown",
   "metadata": {},
   "source": [
    "### Amount Spent by Gender "
   ]
  },
  {
   "cell_type": "code",
   "execution_count": 15,
   "metadata": {},
   "outputs": [
    {
     "data": {
      "text/plain": [
       "Gender\n",
       "Female    144440271\n",
       "Male      527040194\n",
       "Name: Price ($), dtype: int64"
      ]
     },
     "execution_count": 15,
     "metadata": {},
     "output_type": "execute_result"
    }
   ],
   "source": [
    "AmountSpentbygender=df.groupby('Gender')['Price ($)'].sum().round(2)\n",
    "AmountSpentbygender"
   ]
  },
  {
   "cell_type": "code",
   "execution_count": null,
   "metadata": {},
   "outputs": [],
   "source": []
  },
  {
   "cell_type": "markdown",
   "metadata": {},
   "source": [
    "## Dealer"
   ]
  },
  {
   "cell_type": "markdown",
   "metadata": {},
   "source": [
    "### Number of Vehicles sold by each dealer"
   ]
  },
  {
   "cell_type": "code",
   "execution_count": 16,
   "metadata": {},
   "outputs": [
    {
     "data": {
      "text/plain": [
       "Dealer_Name\n",
       "Buddy Storbeck's Diesel Service Inc                 627\n",
       "C & M Motors Inc                                    625\n",
       "Capitol KIA                                         628\n",
       "Chrysler Plymouth                                   625\n",
       "Chrysler of Tri-Cities                              626\n",
       "Classic Chevy                                       623\n",
       "Clay Johnson Auto Sales                             627\n",
       "Diehl Motor CO Inc                                  624\n",
       "Enterprise Rent A Car                               625\n",
       "Gartner Buick Hyundai Saab                          628\n",
       "Hatfield Volkswagen                                 629\n",
       "Iceberg Rentals                                     627\n",
       "McKinney Dodge Chrysler Jeep                        629\n",
       "Motor Vehicle Branch Office                         626\n",
       "Nebo Chevrolet                                      633\n",
       "New Castle Ford Lincoln Mercury                     629\n",
       "Pars Auto Sales                                     630\n",
       "Pitre Buick-Pontiac-Gmc of Scottsdale               628\n",
       "Progressive Shippers Cooperative Association No    1318\n",
       "Rabun Used Car Sales                               1313\n",
       "Race Car Help                                      1253\n",
       "Ryder Truck Rental and Leasing                     1248\n",
       "Saab-Belle Dodge                                   1250\n",
       "Scrivener Performance Engineering                  1246\n",
       "Star Enterprises Inc                               1249\n",
       "Suburban Ford                                      1243\n",
       "Tri-State Mack Inc                                 1249\n",
       "U-Haul CO                                          1247\n",
       "Name: Car_id, dtype: int64"
      ]
     },
     "execution_count": 16,
     "metadata": {},
     "output_type": "execute_result"
    }
   ],
   "source": [
    "VehiclesSold=df.groupby('Dealer_Name')['Car_id'].count()\n",
    "VehiclesSold    "
   ]
  },
  {
   "cell_type": "markdown",
   "metadata": {},
   "source": [
    "### Amount Earned by Each Dealer"
   ]
  },
  {
   "cell_type": "code",
   "execution_count": 17,
   "metadata": {},
   "outputs": [
    {
     "data": {
      "text/plain": [
       "Dealer_Name\n",
       "Rabun Used Car Sales                               37456655\n",
       "Progressive Shippers Cooperative Association No    36751460\n",
       "U-Haul CO                                          35876089\n",
       "Race Car Help                                      35288706\n",
       "Scrivener Performance Engineering                  35258525\n",
       "Saab-Belle Dodge                                   35220865\n",
       "Star Enterprises Inc                               35113206\n",
       "Tri-State Mack Inc                                 35091357\n",
       "Suburban Ford                                      34943473\n",
       "Ryder Truck Rental and Leasing                     34837906\n",
       "Iceberg Rentals                                    17883895\n",
       "Classic Chevy                                      17819055\n",
       "Gartner Buick Hyundai Saab                         17739506\n",
       "Capitol KIA                                        17703134\n",
       "Enterprise Rent A Car                              17695363\n",
       "Pars Auto Sales                                    17648228\n",
       "Nebo Chevrolet                                     17609357\n",
       "Chrysler of Tri-Cities                             17605055\n",
       "C & M Motors Inc                                   17569847\n",
       "New Castle Ford Lincoln Mercury                    17528426\n",
       "Hatfield Volkswagen                                17519985\n",
       "Motor Vehicle Branch Office                        17500919\n",
       "Diehl Motor CO Inc                                 17468212\n",
       "Clay Johnson Auto Sales                            17440649\n",
       "McKinney Dodge Chrysler Jeep                       17413297\n",
       "Chrysler Plymouth                                  17222204\n",
       "Pitre Buick-Pontiac-Gmc of Scottsdale              17209868\n",
       "Buddy Storbeck's Diesel Service Inc                17065223\n",
       "Name: Price ($), dtype: int64"
      ]
     },
     "execution_count": 17,
     "metadata": {},
     "output_type": "execute_result"
    }
   ],
   "source": [
    "AmountEarned=df.groupby('Dealer_Name')['Price ($)'].sum().round(2)\n",
    "AmountEarned=AmountEarned.sort_values(ascending=False)\n",
    "AmountEarned"
   ]
  },
  {
   "cell_type": "markdown",
   "metadata": {},
   "source": [
    "## Vehicle"
   ]
  },
  {
   "cell_type": "markdown",
   "metadata": {},
   "source": [
    "### Number of Vehicles Sold by Type"
   ]
  },
  {
   "cell_type": "code",
   "execution_count": 18,
   "metadata": {},
   "outputs": [
    {
     "data": {
      "text/plain": [
       "Company\n",
       "Chevrolet     1819\n",
       "Dodge         1670\n",
       "Ford          1614\n",
       "Volkswagen    1333\n",
       "Mercedes-B    1285\n",
       "Mitsubishi    1277\n",
       "Chrysler      1120\n",
       "Oldsmobile    1111\n",
       "Toyota        1110\n",
       "Nissan         886\n",
       "Mercury        874\n",
       "Lexus          802\n",
       "Pontiac        796\n",
       "BMW            790\n",
       "Volvo          789\n",
       "Honda          708\n",
       "Acura          689\n",
       "Cadillac       652\n",
       "Plymouth       617\n",
       "Saturn         586\n",
       "Lincoln        492\n",
       "Audi           468\n",
       "Buick          439\n",
       "Subaru         405\n",
       "Jeep           363\n",
       "Porsche        361\n",
       "Hyundai        264\n",
       "Saab           210\n",
       "Infiniti       195\n",
       "Jaguar         180\n",
       "Name: Car_id, dtype: int64"
      ]
     },
     "execution_count": 18,
     "metadata": {},
     "output_type": "execute_result"
    }
   ],
   "source": [
    "VehicleManufacturers=df.groupby('Company')['Car_id'].count()\n",
    "VehicleManufacturers=VehicleManufacturers.sort_values(ascending=False)\n",
    "VehicleManufacturers"
   ]
  },
  {
   "cell_type": "markdown",
   "metadata": {},
   "source": [
    "### Most Prefered Vehicle Color "
   ]
  },
  {
   "cell_type": "code",
   "execution_count": 19,
   "metadata": {},
   "outputs": [
    {
     "data": {
      "text/plain": [
       "Color\n",
       "Pale White    11255\n",
       "Black          7857\n",
       "Red            4793\n",
       "Name: Car_id, dtype: int64"
      ]
     },
     "execution_count": 19,
     "metadata": {},
     "output_type": "execute_result"
    }
   ],
   "source": [
    "VehicleColor=df.groupby('Color')['Car_id'].count()\n",
    "VehicleColor=VehicleColor.sort_values(ascending=False)  \n",
    "VehicleColor    "
   ]
  },
  {
   "cell_type": "code",
   "execution_count": 20,
   "metadata": {},
   "outputs": [
    {
     "data": {
      "image/png": "[encoded data removed]",
      "text/plain": [
       "<Figure size 600x600 with 1 Axes>"
      ]
     },
     "metadata": {},
     "output_type": "display_data"
    }
   ],
   "source": [
    "plt.figure(figsize=(6,6))\n",
    "plt.pie(VehicleColor, labels=VehicleColor.index, autopct='%1.1f%%', startangle=140, colors=['#36ac43','#66b3ff','#000080'])\n",
    "plt.title('Percentage of Vehicles Sold by Color')  \n",
    "plt.show() "
   ]
  },
  {
   "cell_type": "markdown",
   "metadata": {},
   "source": [
    "### Type of Transmission Sold"
   ]
  },
  {
   "cell_type": "code",
   "execution_count": 21,
   "metadata": {},
   "outputs": [
    {
     "data": {
      "text/plain": [
       "Transmission\n",
       "Auto      12570\n",
       "Manual    11335\n",
       "Name: Car_id, dtype: int64"
      ]
     },
     "execution_count": 21,
     "metadata": {},
     "output_type": "execute_result"
    }
   ],
   "source": [
    "TransmissionType=df.groupby('Transmission')['Car_id'].count()\n",
    "TransmissionType=TransmissionType.sort_values(ascending=False)          \n",
    "TransmissionType"
   ]
  },
  {
   "cell_type": "code",
   "execution_count": 22,
   "metadata": {},
   "outputs": [
    {
     "data": {
      "image/png": "[encoded data removed]",
      "text/plain": [
       "<Figure size 600x600 with 1 Axes>"
      ]
     },
     "metadata": {},
     "output_type": "display_data"
    }
   ],
   "source": [
    "plt.figure(figsize=(6,6))\n",
    "TransmissionType.plot(kind='bar', color=['#36ac43','#000080'])\n",
    "plt.title('Count of Vehicles Sold by Transmission Type')        \n",
    "plt.ylabel('Count of Vehicles Sold')\n",
    "plt.xlabel('Transmission Type') \n",
    "plt.show()"
   ]
  },
  {
   "cell_type": "markdown",
   "metadata": {},
   "source": [
    "### Preferred Body Style"
   ]
  },
  {
   "cell_type": "code",
   "execution_count": 23,
   "metadata": {},
   "outputs": [
    {
     "data": {
      "text/plain": [
       "Body Style\n",
       "SUV          6374\n",
       "Hatchback    6128\n",
       "Sedan        4488\n",
       "Passenger    3945\n",
       "Hardtop      2970\n",
       "Name: Car_id, dtype: int64"
      ]
     },
     "execution_count": 23,
     "metadata": {},
     "output_type": "execute_result"
    }
   ],
   "source": [
    "BodyType=df.groupby('Body Style')['Car_id'].count()\n",
    "BodyType=BodyType.sort_values(ascending=False)  \n",
    "BodyType"
   ]
  },
  {
   "cell_type": "code",
   "execution_count": 24,
   "metadata": {},
   "outputs": [
    {
     "data": {
      "image/png": "[encoded data removed]",
      "text/plain": [
       "<Figure size 600x600 with 1 Axes>"
      ]
     },
     "metadata": {},
     "output_type": "display_data"
    }
   ],
   "source": [
    "plt.figure(figsize=(6,6))\n",
    "BodyType.plot(kind='bar', color=['#000080'])  \n",
    "plt.title('Count of Vehicles Sold by Body Type')\n",
    "plt.ylabel('Count of Vehicles Sold')\n",
    "plt.xlabel('Body Type')\n",
    "plt.show()"
   ]
  },
  {
   "cell_type": "markdown",
   "metadata": {},
   "source": [
    "## Correlation Analysis"
   ]
  },
  {
   "cell_type": "code",
   "execution_count": 25,
   "metadata": {},
   "outputs": [
    {
     "data": {
      "text/html": [
       "<div>\n",
       "<style scoped>\n",
       "    .dataframe tbody tr th:only-of-type {\n",
       "        vertical-align: middle;\n",
       "    }\n",
       "\n",
       "    .dataframe tbody tr th {\n",
       "        vertical-align: top;\n",
       "    }\n",
       "\n",
       "    .dataframe thead th {\n",
       "        text-align: right;\n",
       "    }\n",
       "</style>\n",
       "<table border=\"1\" class=\"dataframe\">\n",
       "  <thead>\n",
       "    <tr style=\"text-align: right;\">\n",
       "      <th></th>\n",
       "      <th>Annual Income</th>\n",
       "      <th>Price ($)</th>\n",
       "    </tr>\n",
       "  </thead>\n",
       "  <tbody>\n",
       "    <tr>\n",
       "      <th>Annual Income</th>\n",
       "      <td>1.000000</td>\n",
       "      <td>0.012075</td>\n",
       "    </tr>\n",
       "    <tr>\n",
       "      <th>Price ($)</th>\n",
       "      <td>0.012075</td>\n",
       "      <td>1.000000</td>\n",
       "    </tr>\n",
       "  </tbody>\n",
       "</table>\n",
       "</div>"
      ],
      "text/plain": [
       "               Annual Income  Price ($)\n",
       "Annual Income       1.000000   0.012075\n",
       "Price ($)           0.012075   1.000000"
      ]
     },
     "execution_count": 25,
     "metadata": {},
     "output_type": "execute_result"
    }
   ],
   "source": [
    "# Correlation matrix between Annual Income and Price\n",
    "correlation_matrix = df[['Annual Income', 'Price ($)']].corr()\n",
    "\n",
    "correlation_matrix"
   ]
  },
  {
   "cell_type": "code",
   "execution_count": 26,
   "metadata": {},
   "outputs": [
    {
     "data": {
      "image/png": "[encoded data removed]",
      "text/plain": [
       "<Figure size 600x600 with 2 Axes>"
      ]
     },
     "metadata": {},
     "output_type": "display_data"
    }
   ],
   "source": [
    "# Plot heatmap\n",
    "plt.figure(figsize=(6,6))\n",
    "sns.heatmap(correlation_matrix, annot=True, cmap='coolwarm', vmin=-1, vmax=1)\n",
    "plt.title('Correlation Heatmap between Annual Income and Price ($)')\n",
    "plt.show()"
   ]
  },
  {
   "cell_type": "markdown",
   "metadata": {},
   "source": [
    "## Predicting Car Prices"
   ]
  },
  {
   "cell_type": "markdown",
   "metadata": {},
   "source": [
    "### Linear Regression"
   ]
  },
  {
   "cell_type": "code",
   "execution_count": 27,
   "metadata": {},
   "outputs": [
    {
     "name": "stdout",
     "output_type": "stream",
     "text": [
      "Training set size: (19124, 5)\n",
      "Testing set size: (4781, 5)\n",
      "Predicted Prices: [28966.45239231 27522.23119706 27538.9878954  ... 27185.83305377\n",
      " 29175.59343736 28977.23366985]\n",
      "Mean Absolute Error (MAE): 11065.878433039283\n",
      "Mean Squared Error (MSE): 209620815.17516837\n",
      "R-squared Score (R²): 0.004643014897670161\n"
     ]
    }
   ],
   "source": [
    "### importing libraries\n",
    "from sklearn.model_selection import train_test_split\n",
    "from sklearn.preprocessing import LabelEncoder\n",
    "from sklearn.linear_model import LinearRegression\n",
    "from sklearn.metrics import mean_absolute_error, mean_squared_error, r2_score\n",
    "\n",
    "### Encoding Categorical Features\n",
    "encoder=LabelEncoder()\n",
    "df['Company']=encoder.fit_transform(df['Company'])\n",
    "df['Model']=encoder.fit_transform(df['Model'])\n",
    "df['Transmission']=encoder.fit_transform(df['Transmission'])\n",
    "df['Dealer_Region']=encoder.fit_transform(df['Dealer_Region'])\n",
    "df['Gender']=encoder.fit_transform(df['Gender'])\n",
    "df['Engine']=encoder.fit_transform(df['Engine'])\n",
    "df['Color']=encoder.fit_transform(df['Color'])\n",
    "\n",
    "### Features (X) and Target Variable (y)\n",
    "X=df[['Company','Model','Color','Transmission','Engine']]\n",
    "y=df['Price ($)']\n",
    "\n",
    "### Splitting Data into Training & Testing Sets\n",
    "X_train, X_test, y_train, y_test = train_test_split(X, y, test_size=0.2, random_state=42)\n",
    "print(\"Training set size:\", X_train.shape)\n",
    "print(\"Testing set size:\", X_test.shape)\n",
    "\n",
    "model=LinearRegression()\n",
    "model.fit(X_train, y_train)\n",
    "y_pred = model.predict(X_test)  # Predict prices\n",
    "print(\"Predicted Prices:\", y_pred)\n",
    "\n",
    "\n",
    "### Model Evaluation\n",
    "mae=mean_absolute_error(y_test, y_pred)\n",
    "mse=mean_squared_error(y_test, y_pred)\n",
    "rmse=np.sqrt(mse)\n",
    "r2=r2_score(y_test, y_pred)\n",
    "print(f\"Mean Absolute Error (MAE): {mae}\")\n",
    "print(f\"Mean Squared Error (MSE): {mse}\")\n",
    "print(f\"R-squared Score (R²): {r2}\")"
   ]
  },
  {
   "cell_type": "markdown",
   "metadata": {},
   "source": [
    "### DecisionTreeRegressor"
   ]
  },
  {
   "cell_type": "code",
   "execution_count": 28,
   "metadata": {},
   "outputs": [
    {
     "name": "stdout",
     "output_type": "stream",
     "text": [
      "Decision Tree - MAE: 8740.529563101458\n",
      "Decision Tree - MSE: 153901310.89232096\n",
      "Decision Tree - RMSE: 12405.69671128232\n",
      "Decision Tree - R²: 0.26921978294442095\n"
     ]
    }
   ],
   "source": [
    "from sklearn.tree import DecisionTreeRegressor\n",
    "\n",
    "# Define and train the model\n",
    "dt_model = DecisionTreeRegressor(random_state=42, max_depth=10)  # Limit depth to avoid overfitting\n",
    "dt_model.fit(X_train, y_train)\n",
    "\n",
    "# Predict and evaluate\n",
    "y_pred_dt = dt_model.predict(X_test)\n",
    "mae_dt = mean_absolute_error(y_test, y_pred_dt)\n",
    "mse_dt = mean_squared_error(y_test, y_pred_dt)\n",
    "rmse_dt = np.sqrt(mse_dt)\n",
    "r2_dt = r2_score(y_test, y_pred_dt)\n",
    "\n",
    "print(f\"Decision Tree - MAE: {mae_dt}\")\n",
    "print(f\"Decision Tree - MSE: {mse_dt}\")\n",
    "print(f\"Decision Tree - RMSE: {rmse_dt}\")\n",
    "print(f\"Decision Tree - R²: {r2_dt}\")"
   ]
  },
  {
   "cell_type": "markdown",
   "metadata": {},
   "source": [
    "### Random Forest Regressor"
   ]
  },
  {
   "cell_type": "code",
   "execution_count": 29,
   "metadata": {},
   "outputs": [
    {
     "name": "stdout",
     "output_type": "stream",
     "text": [
      "Random Forest - MAE: 4222.608689787617\n",
      "Random Forest - MSE: 62565890.41586874\n",
      "Random Forest - RMSE: 7909.8603284678\n",
      "Random Forest - R²: 0.7029140641279263\n"
     ]
    }
   ],
   "source": [
    "from sklearn.ensemble import RandomForestRegressor\n",
    "\n",
    "# Define and train the model\n",
    "rf_model = RandomForestRegressor(n_estimators=100, random_state=42, n_jobs=-1)  # 100 trees\n",
    "rf_model.fit(X_train, y_train)\n",
    "\n",
    "# Predict and evaluate\n",
    "y_pred_rf = rf_model.predict(X_test)\n",
    "mae_rf = mean_absolute_error(y_test, y_pred_rf)\n",
    "mse_rf = mean_squared_error(y_test, y_pred_rf)\n",
    "rmse_rf = np.sqrt(mse_rf)\n",
    "r2_rf = r2_score(y_test, y_pred_rf)\n",
    "\n",
    "print(f\"Random Forest - MAE: {mae_rf}\")\n",
    "print(f\"Random Forest - MSE: {mse_rf}\")\n",
    "print(f\"Random Forest - RMSE: {rmse_rf}\")\n",
    "print(f\"Random Forest - R²: {r2_rf}\")"
   ]
  },
  {
   "cell_type": "markdown",
   "metadata": {},
   "source": [
    "### XG BOOST"
   ]
  },
  {
   "cell_type": "code",
   "execution_count": 30,
   "metadata": {},
   "outputs": [
    {
     "name": "stdout",
     "output_type": "stream",
     "text": [
      "XGBoost - MAE: 6017.42333984375\n",
      "XGBoost - MSE: 78760136.0\n",
      "XGBoost - RMSE: 8874.690755175641\n",
      "XGBoost - R²: 0.6260178089141846\n"
     ]
    }
   ],
   "source": [
    "from xgboost import XGBRegressor\n",
    "\n",
    "# Define and train the model\n",
    "xgb_model = XGBRegressor(n_estimators=100, learning_rate=0.1, random_state=42, n_jobs=-1)\n",
    "xgb_model.fit(X_train, y_train)\n",
    "\n",
    "# Predict and evaluate\n",
    "y_pred_xgb = xgb_model.predict(X_test)\n",
    "mae_xgb = mean_absolute_error(y_test, y_pred_xgb)\n",
    "mse_xgb = mean_squared_error(y_test, y_pred_xgb)\n",
    "rmse_xgb = np.sqrt(mse_xgb)\n",
    "r2_xgb = r2_score(y_test, y_pred_xgb)\n",
    "\n",
    "print(f\"XGBoost - MAE: {mae_xgb}\")\n",
    "print(f\"XGBoost - MSE: {mse_xgb}\")\n",
    "print(f\"XGBoost - RMSE: {rmse_xgb}\")\n",
    "print(f\"XGBoost - R²: {r2_xgb}\")"
   ]
  },
  {
   "cell_type": "markdown",
   "metadata": {},
   "source": [
    "Random Forest regressor outperforms other models"
   ]
  },
  {
   "cell_type": "markdown",
   "metadata": {},
   "source": [
    "### Cross validation "
   ]
  },
  {
   "cell_type": "code",
   "execution_count": 31,
   "metadata": {},
   "outputs": [
    {
     "name": "stdout",
     "output_type": "stream",
     "text": [
      "Cross-validated R²: 0.7031162026447954 (± 0.03559081110471599)\n"
     ]
    }
   ],
   "source": [
    "from sklearn.model_selection import cross_val_score\n",
    "scores = cross_val_score(rf_model, X, y, cv=5, scoring='r2')\n",
    "print(f\"Cross-validated R²: {scores.mean()} (± {scores.std()})\")"
   ]
  },
  {
   "cell_type": "markdown",
   "metadata": {},
   "source": [
    "### Hyperparameters for Random Forest Regressor"
   ]
  },
  {
   "cell_type": "code",
   "execution_count": 32,
   "metadata": {},
   "outputs": [
    {
     "name": "stdout",
     "output_type": "stream",
     "text": [
      "Fitting 5 folds for each of 50 candidates, totalling 250 fits\n",
      "Best Parameters: {'n_estimators': 400, 'min_samples_split': 5, 'min_samples_leaf': 1, 'max_features': 'log2', 'max_depth': None, 'bootstrap': False}\n",
      "Best Cross-Validated R²: 0.7065042894060105\n",
      "Optimized Test R²: 0.7030915518530803\n",
      "Optimized MAE: 4215.459533808605\n",
      "Optimized RMSE: 7907.497185868006\n"
     ]
    }
   ],
   "source": [
    "import numpy as np\n",
    "from sklearn.ensemble import RandomForestRegressor\n",
    "from sklearn.model_selection import RandomizedSearchCV\n",
    "from sklearn.metrics import r2_score, mean_absolute_error, mean_squared_error\n",
    "\n",
    "# Define the model\n",
    "rf_model = RandomForestRegressor(random_state=42)\n",
    "\n",
    "# Define the parameter distribution\n",
    "param_dist = {\n",
    "    'n_estimators': [100, 200, 300, 400, 500],          \n",
    "    'max_depth': [10, 20, 30, 40, None],                \n",
    "    'min_samples_split': [2, 5, 10, 20],                \n",
    "    'min_samples_leaf': [1, 2, 4, 8],                   \n",
    "    'max_features': ['sqrt', 'log2', 0.33, 0.5],  # Removed 'auto'\n",
    "    'bootstrap': [True, False]                          \n",
    "}\n",
    "\n",
    "# Set up RandomizedSearchCV\n",
    "random_search = RandomizedSearchCV(\n",
    "    estimator=rf_model,\n",
    "    param_distributions=param_dist,\n",
    "    n_iter=50,               # Number of combinations to try\n",
    "    cv=5,                    # 5-fold cross-validation\n",
    "    scoring='r2',            # Optimize for R²\n",
    "    n_jobs=-1,               # Use all CPU cores\n",
    "    verbose=2,               # Show progress\n",
    "    random_state=42,\n",
    "    error_score='raise'  # Raise errors instead of ignoring failed fits\n",
    ")\n",
    "\n",
    "# Fit the model\n",
    "try:\n",
    "    random_search.fit(X_train, y_train)\n",
    "    print(f\"Best Parameters: {random_search.best_params_}\")\n",
    "    print(f\"Best Cross-Validated R²: {random_search.best_score_}\")\n",
    "\n",
    "    # Evaluate on test set with the best model\n",
    "    best_rf = random_search.best_estimator_\n",
    "    y_pred = best_rf.predict(X_test)\n",
    "    \n",
    "    r2 = r2_score(y_test, y_pred)\n",
    "    mae = mean_absolute_error(y_test, y_pred)\n",
    "    rmse = np.sqrt(mean_squared_error(y_test, y_pred))\n",
    "\n",
    "    print(f\"Optimized Test R²: {r2}\")\n",
    "    print(f\"Optimized MAE: {mae}\")\n",
    "    print(f\"Optimized RMSE: {rmse}\")\n",
    "\n",
    "except Exception as e:\n",
    "    print(f\"Error occurred: {e}\")\n"
   ]
  },
  {
   "cell_type": "code",
   "execution_count": 33,
   "metadata": {},
   "outputs": [
    {
     "data": {
      "image/png": "[encoded data removed]",
      "text/plain": [
       "<Figure size 640x480 with 1 Axes>"
      ]
     },
     "metadata": {},
     "output_type": "display_data"
    }
   ],
   "source": [
    "feature_importances = pd.Series(best_rf.feature_importances_, index=X_train.columns)\n",
    "feature_importances.nlargest(10).plot(kind='barh')\n",
    "plt.title(\"Top 10 Feature Importances\")\n",
    "plt.show()"
   ]
  },
  {
   "cell_type": "code",
   "execution_count": 41,
   "metadata": {},
   "outputs": [
    {
     "name": "stdout",
     "output_type": "stream",
     "text": [
      "Predicted Price: $18633.08792127358\n"
     ]
    },
    {
     "name": "stderr",
     "output_type": "stream",
     "text": [
      "c:\\Users\\Joy Makena\\AppData\\Local\\Programs\\Python\\Python313\\Lib\\site-packages\\sklearn\\utils\\validation.py:2739: UserWarning: X does not have valid feature names, but RandomForestRegressor was fitted with feature names\n",
      "  warnings.warn(\n"
     ]
    }
   ],
   "source": [
    "from sklearn.ensemble import RandomForestRegressor\n",
    "from sklearn.model_selection import train_test_split\n",
    "from sklearn.preprocessing import LabelEncoder\n",
    "import pandas as pd\n",
    "\n",
    "# Load dataset (replace with actual data)\n",
    "\n",
    "# Encode categorical features\n",
    "encoder = LabelEncoder()\n",
    "df['Company'] = encoder.fit_transform(df['Company'])\n",
    "df['Model'] = encoder.fit_transform(df['Model'])\n",
    "df['Transmission'] = encoder.fit_transform(df['Transmission'])\n",
    "df['Color'] = encoder.fit_transform(df['Color'])\n",
    "\n",
    "# Define input features and target variable\n",
    "X = df[['Annual Income', 'Company', 'Model', 'Transmission', 'Color']]\n",
    "y = df['Price ($)']\n",
    "\n",
    "# Split into train and test sets\n",
    "X_train, X_test, y_train, y_test = train_test_split(X, y, test_size=0.2, random_state=42)\n",
    "\n",
    "# Initialize and train the model\n",
    "rf_model = RandomForestRegressor(n_estimators=100, random_state=42)\n",
    "rf_model.fit(X_train, y_train)  # <--- Train the model here\n",
    "\n",
    "# Now, you can safely make predictions\n",
    "encoded_inputs = [[13500, 1, 2, 0, 3]]  # Replace with actual input data\n",
    "predicted_price = rf_model.predict(encoded_inputs)[0]\n",
    "\n",
    "print(f\"Predicted Price: ${predicted_price}\")\n"
   ]
  },
  {
   "cell_type": "code",
   "execution_count": 43,
   "metadata": {},
   "outputs": [
    {
     "data": {
      "text/plain": [
       "['label_encoders.pkl']"
      ]
     },
     "execution_count": 43,
     "metadata": {},
     "output_type": "execute_result"
    }
   ],
   "source": [
    "import joblib\n",
    "# Save the trained model\n",
    "joblib.dump(rf_model, \"random_forest_model.pkl\")\n",
    "\n",
    "# Save label encoders\n",
    "joblib.dump(encoder, \"label_encoders.pkl\")"
   ]
  },
  {
   "cell_type": "code",
   "execution_count": 45,
   "metadata": {},
   "outputs": [
    {
     "name": "stdout",
     "output_type": "stream",
     "text": [
      "Model is NOT fitted! Training now...\n"
     ]
    }
   ],
   "source": [
    "from sklearn.utils.validation import check_is_fitted\n",
    "\n",
    "try:\n",
    "    check_is_fitted(rf_model)\n",
    "    print(\"Model is already fitted!\")\n",
    "except:\n",
    "    print(\"Model is NOT fitted! Training now...\")\n",
    "    rf_model.fit(X_train, y_train)\n"
   ]
  },
  {
   "cell_type": "code",
   "execution_count": 38,
   "metadata": {},
   "outputs": [
    {
     "data": {
      "text/plain": [
       "['label_encoders.pkl']"
      ]
     },
     "execution_count": 38,
     "metadata": {},
     "output_type": "execute_result"
    }
   ],
   "source": [
    "encoders = {}  # ✅ Store encoders in a dictionary\n",
    "for col in [\"Company\", \"Model\", \"Color\", \"Transmission\", \"Engine\"]:\n",
    "    encoder = LabelEncoder()\n",
    "    df[col] = encoder.fit_transform(df[col])\n",
    "    encoders[col] = encoder  # ✅ Save each encoder\n",
    "joblib.dump(encoders, \"label_encoders.pkl\")"
   ]
  }
 ],
 "metadata": {
  "kernelspec": {
   "display_name": "Python 3",
   "language": "python",
   "name": "python3"
  },
  "language_info": {
   "codemirror_mode": {
    "name": "ipython",
    "version": 3
   },
   "file_extension": ".py",
   "mimetype": "text/x-python",
   "name": "python",
   "nbconvert_exporter": "python",
   "pygments_lexer": "ipython3",
   "version": "3.13.1"
  }
 },
 "nbformat": 4,
 "nbformat_minor": 2
}
